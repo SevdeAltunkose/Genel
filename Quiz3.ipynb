{
 "cells": [
  {
   "cell_type": "code",
   "execution_count": 1,
   "id": "7c44e313-2de4-42f5-a43c-b04e2388d970",
   "metadata": {},
   "outputs": [],
   "source": [
    "#1) Aşağıdaki kodun çıktısı ne olacaktır?"
   ]
  },
  {
   "cell_type": "code",
   "execution_count": 11,
   "id": "812a9da9-1d88-4488-9e10-0771c1a042e8",
   "metadata": {},
   "outputs": [],
   "source": [
    "def toplama(a,b):\n",
    "    print(a,b) # Sadece ekrana yazdırır ama geri döndürmez.;"
   ]
  },
  {
   "cell_type": "code",
   "execution_count": 13,
   "id": "b3723878-0ba9-4f19-a0fd-58bfc2a75494",
   "metadata": {},
   "outputs": [],
   "source": [
    "# Bu durumda toplama fonksiyonunuzun çıktısı None döndürüyor.\n",
    "# Bunun olmasının nedeni, toplama fonksiyonunuzun içinde bir return ifadesi olmamasıdır. \n",
    "# Eğer bir fonksiyonun sonucu geri döndürülmezse, Python varsayılan olarak None döndürür.\n",
    "# None bir değişkenin, fonksiyonun veya ifadenin herhangi bir belirli değere sahip olmadığını ifade eder."
   ]
  },
  {
   "cell_type": "code",
   "execution_count": 15,
   "id": "68164ac5-c514-4eeb-a135-181748dec726",
   "metadata": {},
   "outputs": [
    {
     "name": "stdout",
     "output_type": "stream",
     "text": [
      "3 4\n",
      "None\n"
     ]
    }
   ],
   "source": [
    "x = toplama(3,4)\n",
    "print(x) "
   ]
  },
  {
   "cell_type": "code",
   "execution_count": 17,
   "id": "98994ebb-7d8d-47cc-a8dc-52bd199acb10",
   "metadata": {},
   "outputs": [],
   "source": [
    "#2) Aşağıdaki kodun çıktısı ne olacaktır?"
   ]
  },
  {
   "cell_type": "code",
   "execution_count": 19,
   "id": "10a7d86a-205c-4a83-a231-043944500301",
   "metadata": {},
   "outputs": [],
   "source": [
    "def usselIslem(x=5,y=3):\n",
    "    print(x ** y)"
   ]
  },
  {
   "cell_type": "code",
   "execution_count": 21,
   "id": "173f34d8-3c42-4514-8073-ad2f4216c8ec",
   "metadata": {},
   "outputs": [
    {
     "name": "stdout",
     "output_type": "stream",
     "text": [
      "16\n"
     ]
    }
   ],
   "source": [
    "usselIslem(2,4)"
   ]
  },
  {
   "cell_type": "code",
   "execution_count": 23,
   "id": "88d4bfba-4e30-41a0-8b0b-d7a90a019d0a",
   "metadata": {},
   "outputs": [],
   "source": [
    "#3) Aynı fonksiyonu aşağıdaki gibi çağırırsak çıktı ne olur?"
   ]
  },
  {
   "cell_type": "code",
   "execution_count": 25,
   "id": "72c1e79f-c277-4de2-8bcc-c17a4a872a68",
   "metadata": {},
   "outputs": [
    {
     "name": "stdout",
     "output_type": "stream",
     "text": [
      "125\n"
     ]
    }
   ],
   "source": [
    "usselIslem()"
   ]
  },
  {
   "cell_type": "code",
   "execution_count": 27,
   "id": "ce1510f3-f2ac-494f-8ca1-de067a8be92a",
   "metadata": {},
   "outputs": [],
   "source": [
    "#4) Aşağıdaki kodun çıktısı ne olacaktır?"
   ]
  },
  {
   "cell_type": "code",
   "execution_count": 31,
   "id": "4d06bade-f66b-4b1c-943d-d0640e234686",
   "metadata": {},
   "outputs": [],
   "source": [
    "def myLoop(*args):\n",
    "    for element in args:\n",
    "        print(element / 2)"
   ]
  },
  {
   "cell_type": "code",
   "execution_count": 35,
   "id": "e600e645-fc0c-49f5-b810-0f680caca873",
   "metadata": {},
   "outputs": [],
   "source": [
    "# *args:Bir fonksiyona belirsiz sayıda pozisyonel argüman geçirmemizi sağlar. \n",
    "#args, bir tuple olarak fonksiyon içinde saklanır ve her bir elemanı sırasıyla kullanabilirsiniz."
   ]
  },
  {
   "cell_type": "code",
   "execution_count": 37,
   "id": "a4717445-f3dd-411a-8c5f-077e0e9ec6e7",
   "metadata": {},
   "outputs": [
    {
     "name": "stdout",
     "output_type": "stream",
     "text": [
      "1.5\n",
      "1.0\n",
      "0.5\n",
      "2.5\n",
      "1.5\n",
      "2.0\n"
     ]
    }
   ],
   "source": [
    "myLoop(3,2,1,5,3,4)"
   ]
  },
  {
   "cell_type": "code",
   "execution_count": 39,
   "id": "ed32083c-a2d6-4851-8c62-8ebe99a24153",
   "metadata": {},
   "outputs": [],
   "source": [
    "#5) Aşağıdaki dizide belirtilen rakamları, myFunction fonksiyonuna tabi tutup, yeni bir dizi oluşturunuz"
   ]
  },
  {
   "cell_type": "code",
   "execution_count": 41,
   "id": "205fdda3-ef8c-4e31-b217-40139a8ea1bf",
   "metadata": {},
   "outputs": [],
   "source": [
    "def myFunc(num):\n",
    "    return num ** 3"
   ]
  },
  {
   "cell_type": "code",
   "execution_count": 45,
   "id": "f9bbf79e-2fdc-4640-bda9-1a07501b3227",
   "metadata": {},
   "outputs": [],
   "source": [
    "#map(function, iterable)\n",
    "#function: Uygulanacak fonksiyon.\n",
    "#iterable: Üzerinde işlem yapılacak iterable (liste, tuple, vb.)."
   ]
  },
  {
   "cell_type": "code",
   "execution_count": 47,
   "id": "58c1704c-99d9-4f40-8b8b-69001862e056",
   "metadata": {},
   "outputs": [],
   "source": [
    "myList = [2,3,4,5,6]"
   ]
  },
  {
   "cell_type": "code",
   "execution_count": 49,
   "id": "e8fc21b7-da2d-4f0b-ad13-e88f3e115f37",
   "metadata": {},
   "outputs": [
    {
     "data": {
      "text/plain": [
       "[8, 27, 64, 125, 216]"
      ]
     },
     "execution_count": 49,
     "metadata": {},
     "output_type": "execute_result"
    }
   ],
   "source": [
    "list(map(myFunc,myList))"
   ]
  },
  {
   "cell_type": "code",
   "execution_count": 51,
   "id": "e763bff5-d779-49b7-a149-189fd502ec4a",
   "metadata": {},
   "outputs": [],
   "source": [
    "#6) Aşağıdaki string dizisinde, içinde sadece XYZ geçen barkodları gösterecek yeni bir liste oluşturunuz"
   ]
  },
  {
   "cell_type": "code",
   "execution_count": 57,
   "id": "f0b16d54-d356-471b-8a15-799c5b3d25c1",
   "metadata": {},
   "outputs": [],
   "source": [
    "#lambda ifadesi, küçük ve tek kullanımlık anonim (isimsiz) fonksiyonlar oluşturmak için kullanılır.\n",
    "#Lambda fonksiyonları, kısa ve tek satırlık işlevleri hızlıca tanımlamak için uygundur. \n",
    "#lambda ile tanımlanan fonksiyonlar, klasik def ifadesi ile tanımlanan fonksiyonlardan farklı olarak bir isim almaz \n",
    "#ve genellikle yalnızca bir kez kullanılırlar."
   ]
  },
  {
   "cell_type": "code",
   "execution_count": 59,
   "id": "b6cc8411-2c32-4d56-a58f-4b94a751b197",
   "metadata": {},
   "outputs": [],
   "source": [
    "#filter fonksiyonu, belirli bir koşulu sağlayan öğeleri bir iterable (örneğin liste veya tuple) içinden seçmek için kullanılır.\n",
    "#filter fonksiyonu, verilen iterable'daki her bir öğeyi belirtilen koşul fonksiyonuna göre değerlendirir  \n",
    "#yalnızca True döndüren öğeleri içeren bir filtrelenmiş nesne döndürür."
   ]
  },
  {
   "cell_type": "code",
   "execution_count": 61,
   "id": "6edcf331-fe4b-44fa-83d5-a595b13eb3ee",
   "metadata": {},
   "outputs": [],
   "source": [
    "barkodDizisi = [\"ABC231\",\"SA3123XYZ\",\"XYZA123Q\",\"QRE1231KJ\",\"X112QGL\"]"
   ]
  },
  {
   "cell_type": "code",
   "execution_count": 63,
   "id": "48b4c8bf-a902-45ef-891e-13df7f190a6d",
   "metadata": {},
   "outputs": [
    {
     "data": {
      "text/plain": [
       "['SA3123XYZ', 'XYZA123Q']"
      ]
     },
     "execution_count": 63,
     "metadata": {},
     "output_type": "execute_result"
    }
   ],
   "source": [
    "list(filter(lambda string : \"XYZ\" in string,barkodDizisi))"
   ]
  },
  {
   "cell_type": "code",
   "execution_count": 65,
   "id": "38a51374-9d66-412f-8c05-13904613abba",
   "metadata": {},
   "outputs": [],
   "source": [
    "#7) Aşağıdaki kodu okursanız, ornekFonksiyon çalıştırıldığında en altta yazdırılan print size neyi yazdıracaktır?"
   ]
  },
  {
   "cell_type": "code",
   "execution_count": 67,
   "id": "57b0d712-2b1e-4e93-a649-8e10db28c5d9",
   "metadata": {},
   "outputs": [],
   "source": [
    "myVar = \"Atil Samancioglu\"\n",
    "\n",
    "def ornekFonksiyon():\n",
    "    myVar = \"Atil\"\n",
    "    \n",
    "    def digerFonksiyon():\n",
    "        print(myVar)\n",
    "    \n",
    "    digerFonksiyon()"
   ]
  },
  {
   "cell_type": "code",
   "execution_count": 69,
   "id": "88d8bf86-fc7d-4595-9fce-a47ef50f4859",
   "metadata": {},
   "outputs": [
    {
     "name": "stdout",
     "output_type": "stream",
     "text": [
      "Atil\n"
     ]
    }
   ],
   "source": [
    "ornekFonksiyon()"
   ]
  },
  {
   "cell_type": "code",
   "execution_count": 71,
   "id": "f413a656-2ff7-4f62-836e-7263167ded04",
   "metadata": {},
   "outputs": [],
   "source": [
    "#8) Aşağıda yazdırılan sınıfı incelediğinizde kedim.yasiCarp() kodunun çıktısı ne olacaktır?"
   ]
  },
  {
   "cell_type": "code",
   "execution_count": 73,
   "id": "7cddb934-2ca1-4597-a2e4-a5c95ee82800",
   "metadata": {},
   "outputs": [],
   "source": [
    "class Kedi():\n",
    "        \n",
    "    def __init__(self,isim,yas=5):\n",
    "        self.isim = isim\n",
    "        self.yas = yas\n",
    "        \n",
    "    def yasiCarp(self):\n",
    "        return self.yas * 3"
   ]
  },
  {
   "cell_type": "code",
   "execution_count": 75,
   "id": "9ba5f102-edb4-4060-b04d-59dc9405eb4e",
   "metadata": {},
   "outputs": [],
   "source": [
    "kedim = Kedi(\"Tonton\")"
   ]
  },
  {
   "cell_type": "code",
   "execution_count": 77,
   "id": "54ea3950-2d23-4503-9aad-6e86350f5b37",
   "metadata": {},
   "outputs": [
    {
     "data": {
      "text/plain": [
       "15"
      ]
     },
     "execution_count": 77,
     "metadata": {},
     "output_type": "execute_result"
    }
   ],
   "source": [
    "kedim.yasiCarp()"
   ]
  },
  {
   "cell_type": "code",
   "execution_count": 79,
   "id": "c9fb130a-be05-4a88-8e45-1159dcd62d5d",
   "metadata": {},
   "outputs": [],
   "source": [
    "#9) Aşağıdaki kodun çıktısı ne olacaktır?"
   ]
  },
  {
   "cell_type": "code",
   "execution_count": 89,
   "id": "41cee940-f6b0-4bb0-952d-4febd5bad6f9",
   "metadata": {},
   "outputs": [],
   "source": [
    "class Ogrenci():\n",
    "    \n",
    "    def __init__(self,isim,sinavNotu):\n",
    "        self.isim = isim\n",
    "        self.__sinavNotu = sinavNotu #sinavNotunun önüne iki alt çizgi konulması değiştirilemiyeceği anlamına gelir.\n",
    "    \n",
    "    def notuGoster(self):\n",
    "        print(f\"{self.isim} sınav notu: {self.__sinavNotu}\")"
   ]
  },
  {
   "cell_type": "code",
   "execution_count": 91,
   "id": "f27e6e89-0cea-4bbe-98dd-e7492e4f699d",
   "metadata": {},
   "outputs": [],
   "source": [
    "ogrenci = Ogrenci(\"Mehmet\",85)"
   ]
  },
  {
   "cell_type": "code",
   "execution_count": 93,
   "id": "7e56e417-1d54-4669-aa59-d88ca685a65f",
   "metadata": {},
   "outputs": [],
   "source": [
    "ogrenci.__sinavNotu = 75"
   ]
  },
  {
   "cell_type": "code",
   "execution_count": 95,
   "id": "a301b33a-1eab-457f-bef2-3aadca98b004",
   "metadata": {},
   "outputs": [
    {
     "name": "stdout",
     "output_type": "stream",
     "text": [
      "Mehmet sınav notu: 85\n"
     ]
    }
   ],
   "source": [
    "ogrenci.notuGoster()"
   ]
  },
  {
   "cell_type": "code",
   "execution_count": 97,
   "id": "9c7e0c3d-8a6c-416e-aff0-49641f55dbe9",
   "metadata": {},
   "outputs": [],
   "source": [
    "#10) Soyut sınıflar ve methodlar oluşturmamıza olanak tanıyan, kodlarımızı daha planlı şekilde yazmamızı mümkün kılan"
   ]
  },
  {
   "cell_type": "code",
   "execution_count": 99,
   "id": "e5870ced-9ba4-4e24-8cbc-018afa11a218",
   "metadata": {},
   "outputs": [],
   "source": [
    "# aynı zamanda büyük projelerde bize yapısal olarak fayda sağlayabilecek OOP prensibinin adı nedir?"
   ]
  },
  {
   "cell_type": "code",
   "execution_count": 103,
   "id": "fab6710e-b8da-41ba-bfd6-40ec3d1a4790",
   "metadata": {},
   "outputs": [],
   "source": [
    "#CEVAP:Abstraction (soyutlama):bir nesnenin gereksiz ayrıntılarını gizleyerek yalnızca önemli ve gerekli özelliklerini ve işlevlerini ortaya çıkarır. \n",
    "#Böylece, kullanıcılar karmaşık işlemleri basit bir arayüzle etkileşimde bulunarak gerçekleştirebilirler."
   ]
  }
 ],
 "metadata": {
  "kernelspec": {
   "display_name": "Python 3 (ipykernel)",
   "language": "python",
   "name": "python3"
  },
  "language_info": {
   "codemirror_mode": {
    "name": "ipython",
    "version": 3
   },
   "file_extension": ".py",
   "mimetype": "text/x-python",
   "name": "python",
   "nbconvert_exporter": "python",
   "pygments_lexer": "ipython3",
   "version": "3.12.4"
  }
 },
 "nbformat": 4,
 "nbformat_minor": 5
}
