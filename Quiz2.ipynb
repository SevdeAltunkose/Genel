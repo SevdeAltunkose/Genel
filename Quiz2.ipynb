{
 "cells": [
  {
   "cell_type": "code",
   "execution_count": 71,
   "id": "40fa5730-548a-41ef-85c7-82192cde1a62",
   "metadata": {},
   "outputs": [],
   "source": [
    "# 1) Aşağıdaki kodun çıktısı ne olacaktır?"
   ]
  },
  {
   "cell_type": "code",
   "execution_count": 72,
   "id": "a377ba02-07c5-4943-84fc-22b663052e41",
   "metadata": {},
   "outputs": [],
   "source": [
    "x = 5\n",
    "y = 3\n",
    "z = 6"
   ]
  },
  {
   "cell_type": "code",
   "execution_count": 73,
   "id": "2f132b64-ed28-4ef6-8713-322d16b1cde9",
   "metadata": {},
   "outputs": [
    {
     "data": {
      "text/plain": [
       "True"
      ]
     },
     "execution_count": 73,
     "metadata": {},
     "output_type": "execute_result"
    }
   ],
   "source": [
    "x > y and z > x   # and(Ve):Her iki taraftaki koşul da doğru olursa sonuç doğru çıkar."
   ]
  },
  {
   "cell_type": "code",
   "execution_count": 74,
   "id": "3d41e144-993b-4924-8c92-8814f22c9704",
   "metadata": {},
   "outputs": [],
   "source": [
    "# 2) Aynı değerlerle kod şu şekilde değiştilirse çıktı ne olacaktır?"
   ]
  },
  {
   "cell_type": "code",
   "execution_count": 75,
   "id": "c6b167b6-5ffa-421a-be21-452b13b9336e",
   "metadata": {},
   "outputs": [
    {
     "data": {
      "text/plain": [
       "True"
      ]
     },
     "execution_count": 75,
     "metadata": {},
     "output_type": "execute_result"
    }
   ],
   "source": [
    "x < y or z > y    #or(Veya):İki koşuldan biri doğru olması yeterlidir çıktısının doğru olması için"
   ]
  },
  {
   "cell_type": "code",
   "execution_count": 76,
   "id": "6260e714-d065-4901-8fe0-343864601966",
   "metadata": {},
   "outputs": [],
   "source": [
    "# 3) Aşağıdaki kodun çıktısı ne olacaktır?"
   ]
  },
  {
   "cell_type": "code",
   "execution_count": 77,
   "id": "61725217-5bf9-4e9d-b952-46200d1c42b6",
   "metadata": {},
   "outputs": [
    {
     "name": "stdout",
     "output_type": "stream",
     "text": [
      "18 ile 30 yaş arasında bir gençsiniz\n"
     ]
    }
   ],
   "source": [
    "yas = 20\n",
    "\n",
    "if yas < 18:\n",
    "    print(\"18 yaşından küçüksünüz\")\n",
    "elif yas >= 18 and yas < 30:\n",
    "    print(\"18 ile 30 yaş arasında bir gençsiniz\")\n",
    "elif yas >= 30 and yas < 40:\n",
    "    print(\"30 ve 40 arasına gelmişsiniz\")\n",
    "else:\n",
    "    print(\"40 yaşından daha büyüksünüz\")"
   ]
  },
  {
   "cell_type": "code",
   "execution_count": 78,
   "id": "f6b2600e-253b-4c6b-b83a-9b62a63178de",
   "metadata": {},
   "outputs": [],
   "source": [
    "#4) Aşağıdaki sözlükte, değerler içinde c harfinin geçip geçmediğini gösteren bir if koşulu yazınız"
   ]
  },
  {
   "cell_type": "code",
   "execution_count": 79,
   "id": "716b467a-6e34-4ab9-8743-ff623ed0e63c",
   "metadata": {},
   "outputs": [],
   "source": [
    "my_dictionary = {\"k1\":10,\"k2k\":\"a\",\"k32\":30,\"k4\":\"c\"}"
   ]
  },
  {
   "cell_type": "code",
   "execution_count": 80,
   "id": "10bf07c1-daf9-4217-9306-d816bdd9cda0",
   "metadata": {
    "scrolled": true
   },
   "outputs": [
    {
     "name": "stdout",
     "output_type": "stream",
     "text": [
      "evet\n"
     ]
    }
   ],
   "source": [
    "if \"c\" in my_dictionary.values():\n",
    "    print(\"evet\")"
   ]
  },
  {
   "cell_type": "code",
   "execution_count": 81,
   "id": "f727e472-5908-435e-9836-e10443e9c988",
   "metadata": {},
   "outputs": [],
   "source": [
    "#5) Aşağıdaki sözlükte, anahtarlar içinde a harfinin geçip geçmediğini gösteren bir if koşulu yazınız"
   ]
  },
  {
   "cell_type": "code",
   "execution_count": 82,
   "id": "be4afbf1-50e8-4cbb-99f5-66fb1d2c04ca",
   "metadata": {},
   "outputs": [],
   "source": [
    "my_other_dictionary = {\"b\":203,\"c\":\"a\",\"a\":400,\"d\":\"f\"}"
   ]
  },
  {
   "cell_type": "code",
   "execution_count": 83,
   "id": "202ab8f8-9c7d-4ab4-af23-81a3e06172b0",
   "metadata": {},
   "outputs": [
    {
     "name": "stdout",
     "output_type": "stream",
     "text": [
      "evet\n"
     ]
    }
   ],
   "source": [
    "if \"a\" in my_other_dictionary.keys():\n",
    "    print(\"evet\")"
   ]
  },
  {
   "cell_type": "code",
   "execution_count": 84,
   "id": "b635ad99-635c-47c9-8629-3eaa510ae8c7",
   "metadata": {},
   "outputs": [],
   "source": [
    "#6) Aşağıdaki listedeki sayılardan sadece çift sayı olanları yazdıran bir kod yazınız."
   ]
  },
  {
   "cell_type": "code",
   "execution_count": 85,
   "id": "d1aa83ca-1214-4505-b2e2-f637742821a6",
   "metadata": {},
   "outputs": [],
   "source": [
    "my_numbers = [1,2,3,4,5,6,19,20,32,21,20,1111,23,24]"
   ]
  },
  {
   "cell_type": "code",
   "execution_count": 86,
   "id": "8e1bdaf0-49b1-48b8-9a4b-726e5285c56f",
   "metadata": {},
   "outputs": [
    {
     "name": "stdout",
     "output_type": "stream",
     "text": [
      "2\n",
      "4\n",
      "6\n",
      "20\n",
      "32\n",
      "20\n",
      "24\n"
     ]
    }
   ],
   "source": [
    "for num in my_numbers:\n",
    "    if num % 2 == 0:\n",
    "        print(num)"
   ]
  },
  {
   "cell_type": "code",
   "execution_count": 87,
   "id": "ca655323-df62-4c16-90cd-f9e367597ef2",
   "metadata": {},
   "outputs": [],
   "source": [
    "#7) Aşağıdaki listedeki sayılar bir dairenin yarı çapını vermektedir. "
   ]
  },
  {
   "cell_type": "code",
   "execution_count": 88,
   "id": "7982075d-d340-4835-8e3f-af09195d2543",
   "metadata": {},
   "outputs": [],
   "source": [
    "#Tüm dairelerin çevresini içeren başka yeni bir liste oluşturunuz. (İpucu: 2 * pi * r)  Pi 3.14 alınabilir."
   ]
  },
  {
   "cell_type": "code",
   "execution_count": 89,
   "id": "1bc681bd-b33f-42c5-80e4-c65091bf7433",
   "metadata": {},
   "outputs": [],
   "source": [
    "r_list = [3,2,5,8,4,6,9,12]"
   ]
  },
  {
   "cell_type": "code",
   "execution_count": 90,
   "id": "0e1f74f8-8942-48c3-ba76-790d57e54b06",
   "metadata": {},
   "outputs": [],
   "source": [
    "pi = 3.14"
   ]
  },
  {
   "cell_type": "code",
   "execution_count": 91,
   "id": "8f256fc9-3160-4c18-89bb-b6f7aabab6f6",
   "metadata": {},
   "outputs": [],
   "source": [
    "cevre_listesi = []\n",
    "\n",
    "for r in r_list:\n",
    "    cevre_listesi.append(2 * pi * r)"
   ]
  },
  {
   "cell_type": "code",
   "execution_count": 92,
   "id": "600eb044-6c88-4ed0-bb09-578405110a37",
   "metadata": {},
   "outputs": [
    {
     "data": {
      "text/plain": [
       "[18.84, 12.56, 31.400000000000002, 50.24, 25.12, 37.68, 56.52, 75.36]"
      ]
     },
     "execution_count": 92,
     "metadata": {},
     "output_type": "execute_result"
    }
   ],
   "source": [
    "cevre_listesi"
   ]
  },
  {
   "cell_type": "code",
   "execution_count": 93,
   "id": "ee9fe1e7-ea55-4446-b394-8c5cdf660c4e",
   "metadata": {},
   "outputs": [],
   "source": [
    "#8) Aşağıdaki listede isim - yaş eşleşmelerinin bulunduğu yapılar mevcuttur."
   ]
  },
  {
   "cell_type": "code",
   "execution_count": 94,
   "id": "b3331f29-eef6-427a-afc7-a0bcc8e9c705",
   "metadata": {},
   "outputs": [],
   "source": [
    "# Sadece yaşların olduğu yeni ve ayrı bir liste oluşturunuz."
   ]
  },
  {
   "cell_type": "code",
   "execution_count": 95,
   "id": "00eda8d0-c710-4361-97b8-9481b8248827",
   "metadata": {},
   "outputs": [],
   "source": [
    "age_name_list = [(\"Ahmet\",30),(\"Ayse\",24),(\"Mehmet\",40),(\"Fatma\",29)]"
   ]
  },
  {
   "cell_type": "code",
   "execution_count": 96,
   "id": "2ee2eed5-c42f-4fab-b940-64e84b904a46",
   "metadata": {},
   "outputs": [],
   "source": [
    "yas_listesi = []\n",
    "for (isim,yas) in age_name_list:\n",
    "    yas_listesi.append(yas)"
   ]
  },
  {
   "cell_type": "code",
   "execution_count": 97,
   "id": "a9a7c7c0-e4b0-4f50-8ca6-389d8bd457e8",
   "metadata": {},
   "outputs": [
    {
     "data": {
      "text/plain": [
       "[30, 24, 40, 29]"
      ]
     },
     "execution_count": 97,
     "metadata": {},
     "output_type": "execute_result"
    }
   ],
   "source": [
    "yas_listesi"
   ]
  },
  {
   "cell_type": "code",
   "execution_count": 98,
   "id": "5ab3ce5f-2ef9-41d1-80b9-fe0de46811c4",
   "metadata": {},
   "outputs": [],
   "source": [
    "#9) Aşağıdaki müzik gruplarından birini rastgele yazdıran bir kod yazınız"
   ]
  },
  {
   "cell_type": "code",
   "execution_count": 99,
   "id": "d0b9d6a1-6dfa-4998-955f-ae979da35450",
   "metadata": {},
   "outputs": [],
   "source": [
    "metal_list = [\"Metallica\",\"Iron Maiden\",\"Dream Theater\",\"Megadeth\",\"AC/DC\"]"
   ]
  },
  {
   "cell_type": "code",
   "execution_count": 100,
   "id": "c1d59fe8-b7b8-4b1e-bfa3-84aba34cd8bc",
   "metadata": {},
   "outputs": [],
   "source": [
    "from random import randint"
   ]
  },
  {
   "cell_type": "code",
   "execution_count": 101,
   "id": "e58e9ac8-1af7-4fa2-b326-96e36dcd2ea2",
   "metadata": {},
   "outputs": [
    {
     "data": {
      "text/plain": [
       "'Dream Theater'"
      ]
     },
     "execution_count": 101,
     "metadata": {},
     "output_type": "execute_result"
    }
   ],
   "source": [
    "metal_list[randint(0,len(metal_list)-1)]"
   ]
  },
  {
   "cell_type": "code",
   "execution_count": 102,
   "id": "bf7a6e75-9919-483d-9df3-398a9c997237",
   "metadata": {},
   "outputs": [],
   "source": [
    "#10) Aşağıdaki kodun çıktısı ne olacaktır?"
   ]
  },
  {
   "cell_type": "code",
   "execution_count": 103,
   "id": "8f5fb3ba-0bf8-4841-be21-575c65ee15f1",
   "metadata": {},
   "outputs": [],
   "source": [
    "number_list = [5,7,18,21,20,10,405,24]"
   ]
  },
  {
   "cell_type": "code",
   "execution_count": 104,
   "id": "61138757-9844-4dff-86db-b06d5e30eeb7",
   "metadata": {},
   "outputs": [
    {
     "data": {
      "text/plain": [
       "[False, False, True, False, True, True, False, True]"
      ]
     },
     "execution_count": 104,
     "metadata": {},
     "output_type": "execute_result"
    }
   ],
   "source": [
    "[num % 2 == 0 for num in number_list]"
   ]
  }
 ],
 "metadata": {
  "kernelspec": {
   "display_name": "Python 3 (ipykernel)",
   "language": "python",
   "name": "python3"
  },
  "language_info": {
   "codemirror_mode": {
    "name": "ipython",
    "version": 3
   },
   "file_extension": ".py",
   "mimetype": "text/x-python",
   "name": "python",
   "nbconvert_exporter": "python",
   "pygments_lexer": "ipython3",
   "version": "3.12.4"
  }
 },
 "nbformat": 4,
 "nbformat_minor": 5
}
