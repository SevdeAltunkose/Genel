{
 "cells": [
  {
   "cell_type": "code",
   "execution_count": 221,
   "id": "ecbbed60-79df-480f-8ac3-99b3b884c9a3",
   "metadata": {},
   "outputs": [],
   "source": [
    "# 1) Aşagıdaki string'in 5. harfini bir degişkene atayınız."
   ]
  },
  {
   "cell_type": "code",
   "execution_count": 222,
   "id": "dc7b5a89-d4a0-469e-9118-45956434dd7e",
   "metadata": {},
   "outputs": [],
   "source": [
    "My_string = \"Python Ogreniyorum\""
   ]
  },
  {
   "cell_type": "code",
   "execution_count": 223,
   "id": "374a4f46-3ad7-4056-862d-fd45142ab9b1",
   "metadata": {},
   "outputs": [],
   "source": [
    "My_variable = My_string[4]"
   ]
  },
  {
   "cell_type": "code",
   "execution_count": 224,
   "id": "0fedecca-b348-4894-af0d-8ca6e68ec2c1",
   "metadata": {},
   "outputs": [
    {
     "data": {
      "text/plain": [
       "'o'"
      ]
     },
     "execution_count": 224,
     "metadata": {},
     "output_type": "execute_result"
    }
   ],
   "source": [
    "My_variable"
   ]
  },
  {
   "cell_type": "code",
   "execution_count": 225,
   "id": "43414c27-3b95-4309-b130-6ff69d122b13",
   "metadata": {},
   "outputs": [],
   "source": [
    "# 2) Aşagıdaki String'in 5. ve 8. karakteri arasındaki tüm harflerini yazdırınız. (5 ve 8 dahil)"
   ]
  },
  {
   "cell_type": "code",
   "execution_count": 226,
   "id": "3c011ad4-863a-4b46-a386-048d0fa72dfa",
   "metadata": {},
   "outputs": [],
   "source": [
    "my_new_string = \"ProgramlamayaMerhabaDedik\""
   ]
  },
  {
   "cell_type": "code",
   "execution_count": 227,
   "id": "38430d36-04db-4283-b5f7-c761ffe53fdb",
   "metadata": {},
   "outputs": [
    {
     "data": {
      "text/plain": [
       "'raml'"
      ]
     },
     "execution_count": 227,
     "metadata": {},
     "output_type": "execute_result"
    }
   ],
   "source": [
    "my_new_string[4:8] #[başlangıç indexi:bitiş indexi:adım sayısı] Başlangıç 0'dan başlar.Bitiş indexi dahil edilmez."
   ]
  },
  {
   "cell_type": "code",
   "execution_count": 228,
   "id": "76a742ea-4869-40ed-a603-f43e69d7e5f3",
   "metadata": {},
   "outputs": [],
   "source": [
    "# 3) Aşagıdaki String'i kod ile tersten yazın."
   ]
  },
  {
   "cell_type": "code",
   "execution_count": 229,
   "id": "8223bc5c-cb02-4cd8-87b9-955c5d74da1b",
   "metadata": {},
   "outputs": [],
   "source": [
    "my_last_string = \"Afyonkarahisarlilastiramadiklarimizdanmisiniz\""
   ]
  },
  {
   "cell_type": "code",
   "execution_count": 230,
   "id": "2cc2e33a-ef66-4123-83c5-21d37783b2b3",
   "metadata": {},
   "outputs": [
    {
     "data": {
      "text/plain": [
       "'zinisimnadzimiralkidamaritsalilrasiharaknoyfA'"
      ]
     },
     "execution_count": 230,
     "metadata": {},
     "output_type": "execute_result"
    }
   ],
   "source": [
    "my_last_string[::-1] #Bir string'in tersten yazılması için [::-1] dilimleme yapısını kullanabilirsiniz."
   ]
  },
  {
   "cell_type": "code",
   "execution_count": 231,
   "id": "e142aa7f-53e5-4b37-a56e-65577dfce9c1",
   "metadata": {},
   "outputs": [],
   "source": [
    "# 4) Aşagıdaki işlemin sonucu hangi veri tipinde olacaktır?"
   ]
  },
  {
   "cell_type": "markdown",
   "id": "38edcd73-8987-4f64-8f7d-7aa002e0ccb3",
   "metadata": {},
   "source": [
    "4 + 12.2 + 48"
   ]
  },
  {
   "cell_type": "code",
   "execution_count": 233,
   "id": "05250b16-84e7-41a4-91fc-b5eca872ad72",
   "metadata": {},
   "outputs": [
    {
     "data": {
      "text/plain": [
       "float"
      ]
     },
     "execution_count": 233,
     "metadata": {},
     "output_type": "execute_result"
    }
   ],
   "source": [
    "type(4 + 12.2 + 48)"
   ]
  },
  {
   "cell_type": "code",
   "execution_count": 234,
   "id": "8a84e3c8-d5fa-4380-898e-17c01df58433",
   "metadata": {},
   "outputs": [],
   "source": [
    "# 5) Aşagıdaki işlemin sonucu kaçtır?"
   ]
  },
  {
   "cell_type": "markdown",
   "id": "a7d87cd7-8ef1-4fd0-919a-d3546a375194",
   "metadata": {},
   "source": [
    "5 + 7 * 12"
   ]
  },
  {
   "cell_type": "code",
   "execution_count": 236,
   "id": "d725f478-f04e-45df-af4a-06d0fb6a1a32",
   "metadata": {},
   "outputs": [],
   "source": [
    "x = 5\n",
    "y = 7\n",
    "z = 12"
   ]
  },
  {
   "cell_type": "code",
   "execution_count": 237,
   "id": "83d3a458-fa91-4bf3-babe-eaa038acfc13",
   "metadata": {},
   "outputs": [
    {
     "data": {
      "text/plain": [
       "89"
      ]
     },
     "execution_count": 237,
     "metadata": {},
     "output_type": "execute_result"
    }
   ],
   "source": [
    "x + y * z"
   ]
  },
  {
   "cell_type": "code",
   "execution_count": 238,
   "id": "daf06bd6-3fe0-44e3-bec9-43cd98d713ad",
   "metadata": {},
   "outputs": [
    {
     "data": {
      "text/plain": [
       "89"
      ]
     },
     "execution_count": 238,
     "metadata": {},
     "output_type": "execute_result"
    }
   ],
   "source": [
    "5 + 7 * 12"
   ]
  },
  {
   "cell_type": "code",
   "execution_count": 239,
   "id": "e90e980d-fb4c-47fc-a5cd-9d50015f1dd4",
   "metadata": {},
   "outputs": [],
   "source": [
    "# 6) Bu listeyi en az 2 farklı yoldan oluşturunuz: [1,3,\"a\"]"
   ]
  },
  {
   "cell_type": "code",
   "execution_count": 240,
   "id": "b8c36f2d-1856-4a57-8f4c-6d5a3481272c",
   "metadata": {},
   "outputs": [],
   "source": [
    "my_list = [1,3,\"a\"]"
   ]
  },
  {
   "cell_type": "code",
   "execution_count": 241,
   "id": "2323490f-fb70-4881-8fc2-1fee232142df",
   "metadata": {},
   "outputs": [],
   "source": [
    "my_list = list()"
   ]
  },
  {
   "cell_type": "code",
   "execution_count": 242,
   "id": "862c78c5-ddbe-4eb5-8b53-3313548e913d",
   "metadata": {},
   "outputs": [],
   "source": [
    "my_list.append(1) #.append():Listenin sonuna ne eklemek istiyorsak parantez içine yazarız\n",
    "my_list.append(3)\n",
    "my_list.append(\"a\")"
   ]
  },
  {
   "cell_type": "code",
   "execution_count": 243,
   "id": "cbb86936-93ab-43f5-84a2-6f1c9988b138",
   "metadata": {},
   "outputs": [
    {
     "data": {
      "text/plain": [
       "[1, 3, 'a']"
      ]
     },
     "execution_count": 243,
     "metadata": {},
     "output_type": "execute_result"
    }
   ],
   "source": [
    "my_list"
   ]
  },
  {
   "cell_type": "code",
   "execution_count": 244,
   "id": "0aa07a12-8122-4c83-9679-1bff6d64dcdd",
   "metadata": {},
   "outputs": [],
   "source": [
    "# 7) Aşagıdaki \"b\"'yi tek satırda alınız."
   ]
  },
  {
   "cell_type": "code",
   "execution_count": 245,
   "id": "3c43c23b-a033-4a0a-a0bd-542287454717",
   "metadata": {},
   "outputs": [],
   "source": [
    "my_list = [3.14,4,[2,3,\"b\"],True]"
   ]
  },
  {
   "cell_type": "code",
   "execution_count": 246,
   "id": "c5670c32-64c9-4f04-bd5e-8d1557d4d071",
   "metadata": {},
   "outputs": [
    {
     "data": {
      "text/plain": [
       "'b'"
      ]
     },
     "execution_count": 246,
     "metadata": {},
     "output_type": "execute_result"
    }
   ],
   "source": [
    "my_list[2][2]"
   ]
  },
  {
   "cell_type": "code",
   "execution_count": 247,
   "id": "3e71c467-d8dc-49b1-a5d6-b7e454031658",
   "metadata": {},
   "outputs": [],
   "source": [
    "# 8) Aşagıdaki \"a\"'yi tek satırda alınız."
   ]
  },
  {
   "cell_type": "code",
   "execution_count": 248,
   "id": "f66d0114-7c86-4bdb-8555-3194dc547ed2",
   "metadata": {},
   "outputs": [],
   "source": [
    "my_dictionary = {\"key1\":20.25, \"kk2\":[40,{\"k21\":\"a\"}]}"
   ]
  },
  {
   "cell_type": "code",
   "execution_count": 249,
   "id": "1acf797d-7b42-479f-b392-585e53a58640",
   "metadata": {},
   "outputs": [
    {
     "data": {
      "text/plain": [
       "'a'"
      ]
     },
     "execution_count": 249,
     "metadata": {},
     "output_type": "execute_result"
    }
   ],
   "source": [
    "my_dictionary[\"kk2\"][1][\"k21\"]"
   ]
  },
  {
   "cell_type": "code",
   "execution_count": 250,
   "id": "c3bcb70b-c157-4eca-9a96-5db7a6964594",
   "metadata": {},
   "outputs": [],
   "source": [
    "# 9) Aşagıdaki liste set'e çevirilince hangi değerler içinde kalacaktır?"
   ]
  },
  {
   "cell_type": "code",
   "execution_count": 251,
   "id": "eab4a0e3-aef1-43e1-ade0-c850fff6454c",
   "metadata": {},
   "outputs": [],
   "source": [
    "my_list_to_be_set = [3,4,9,3,21,22,4,3,9,10,21,22]"
   ]
  },
  {
   "cell_type": "code",
   "execution_count": 252,
   "id": "9d0c06e7-3a85-4814-85a3-fd6f4627ac2c",
   "metadata": {},
   "outputs": [
    {
     "data": {
      "text/plain": [
       "{3, 4, 9, 10, 21, 22}"
      ]
     },
     "execution_count": 252,
     "metadata": {},
     "output_type": "execute_result"
    }
   ],
   "source": [
    "set(my_list_to_be_set) \n",
    "#set():Benzersiz (tekrarsız) elemanlar içeren bir veri yapısıdır.\n",
    "#set içinde her elemandan yalnızca bir tane bulunur ve elemanların sıralaması yoktur."
   ]
  },
  {
   "cell_type": "code",
   "execution_count": 253,
   "id": "0b86af95-b4fc-4f07-9c4c-9553ab8a2700",
   "metadata": {},
   "outputs": [],
   "source": [
    "# 10) Aşagıdaki ifadenin sonucu ne olacaktır?"
   ]
  },
  {
   "cell_type": "code",
   "execution_count": 254,
   "id": "b59631e2-aaa7-47ff-908f-7664e9def7d8",
   "metadata": {},
   "outputs": [],
   "source": [
    "x = 30 * 5 + 3"
   ]
  },
  {
   "cell_type": "code",
   "execution_count": 255,
   "id": "2b20a60d-2e4f-47c0-8a1f-f398d56cbd44",
   "metadata": {},
   "outputs": [
    {
     "data": {
      "text/plain": [
       "153"
      ]
     },
     "execution_count": 255,
     "metadata": {},
     "output_type": "execute_result"
    }
   ],
   "source": [
    "x"
   ]
  },
  {
   "cell_type": "code",
   "execution_count": 256,
   "id": "89c85dd3-3f39-4e36-a351-b94095200603",
   "metadata": {},
   "outputs": [],
   "source": [
    "y = 108 - 2 * 4"
   ]
  },
  {
   "cell_type": "code",
   "execution_count": 257,
   "id": "a9b442fd-acba-49da-80dc-e45ff025cdb6",
   "metadata": {},
   "outputs": [
    {
     "data": {
      "text/plain": [
       "100"
      ]
     },
     "execution_count": 257,
     "metadata": {},
     "output_type": "execute_result"
    }
   ],
   "source": [
    "y"
   ]
  },
  {
   "cell_type": "code",
   "execution_count": 258,
   "id": "6ef5ce44-1c40-4a4b-ad56-34de7a489082",
   "metadata": {},
   "outputs": [
    {
     "data": {
      "text/plain": [
       "True"
      ]
     },
     "execution_count": 258,
     "metadata": {},
     "output_type": "execute_result"
    }
   ],
   "source": [
    "x > y"
   ]
  },
  {
   "cell_type": "code",
   "execution_count": 259,
   "id": "7df083d1-8f59-4a32-a6b4-15bb80e35b13",
   "metadata": {},
   "outputs": [
    {
     "data": {
      "text/plain": [
       "True"
      ]
     },
     "execution_count": 259,
     "metadata": {},
     "output_type": "execute_result"
    }
   ],
   "source": [
    "153 > 100"
   ]
  }
 ],
 "metadata": {
  "kernelspec": {
   "display_name": "Python 3 (ipykernel)",
   "language": "python",
   "name": "python3"
  },
  "language_info": {
   "codemirror_mode": {
    "name": "ipython",
    "version": 3
   },
   "file_extension": ".py",
   "mimetype": "text/x-python",
   "name": "python",
   "nbconvert_exporter": "python",
   "pygments_lexer": "ipython3",
   "version": "3.12.4"
  }
 },
 "nbformat": 4,
 "nbformat_minor": 5
}
